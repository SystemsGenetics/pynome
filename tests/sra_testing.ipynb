{
 "cells": [
  {
   "cell_type": "markdown",
   "metadata": {},
   "source": [
    "# SRA Testing Module\n",
    "For scratch testing of the SRA module."
   ]
  },
  {
   "cell_type": "code",
   "execution_count": 1,
   "metadata": {
    "collapsed": true
   },
   "outputs": [],
   "source": [
    "# Enable autorealod so that modified files can be re-loaded\n",
    "# with out restarting the kernel.\n",
    "%load_ext autoreload\n",
    "%autoreload 2"
   ]
  },
  {
   "cell_type": "code",
   "execution_count": 2,
   "metadata": {},
   "outputs": [
    {
     "data": {
      "text/plain": [
       "'C:\\\\Users\\\\Tyler\\\\git\\\\pynome\\\\tests'"
      ]
     },
     "execution_count": 2,
     "metadata": {},
     "output_type": "execute_result"
    }
   ],
   "source": [
    "%pwd"
   ]
  },
  {
   "cell_type": "code",
   "execution_count": 3,
   "metadata": {
    "collapsed": true
   },
   "outputs": [],
   "source": [
    "# Add the path of the pynome project.\n",
    "import os\n",
    "import sys\n",
    "sys.path.insert(0, os.path.abspath('..'))"
   ]
  },
  {
   "cell_type": "code",
   "execution_count": 6,
   "metadata": {
    "collapsed": true
   },
   "outputs": [],
   "source": [
    "from pynome.sra import (\n",
    "    build_sra_query_string,\n",
    "    run_sra_query,\n",
    "    fetch_sra_info,\n",
    ")"
   ]
  },
  {
   "cell_type": "code",
   "execution_count": 7,
   "metadata": {},
   "outputs": [],
   "source": [
    "search = build_sra_query_string('3702')"
   ]
  },
  {
   "cell_type": "code",
   "execution_count": 8,
   "metadata": {
    "collapsed": true,
    "scrolled": false
   },
   "outputs": [],
   "source": [
    "result = run_sra_query(search)"
   ]
  },
  {
   "cell_type": "code",
   "execution_count": 9,
   "metadata": {},
   "outputs": [
    {
     "data": {
      "text/plain": [
       "collections.OrderedDict"
      ]
     },
     "execution_count": 9,
     "metadata": {},
     "output_type": "execute_result"
    }
   ],
   "source": [
    "type(result)"
   ]
  },
  {
   "cell_type": "code",
   "execution_count": 10,
   "metadata": {},
   "outputs": [
    {
     "data": {
      "text/plain": [
       "odict_keys(['eSearchResult'])"
      ]
     },
     "execution_count": 10,
     "metadata": {},
     "output_type": "execute_result"
    }
   ],
   "source": [
    "result.keys()"
   ]
  },
  {
   "cell_type": "code",
   "execution_count": 11,
   "metadata": {},
   "outputs": [
    {
     "data": {
      "text/plain": [
       "odict_keys(['Count', 'RetMax', 'RetStart', 'IdList', 'TranslationSet', 'TranslationStack', 'QueryTranslation'])"
      ]
     },
     "execution_count": 11,
     "metadata": {},
     "output_type": "execute_result"
    }
   ],
   "source": [
    "result['eSearchResult'].keys()"
   ]
  },
  {
   "cell_type": "code",
   "execution_count": 13,
   "metadata": {
    "scrolled": false
   },
   "outputs": [],
   "source": [
    "# print(result['eSearchResult']['IdList']['Id'])"
   ]
  },
  {
   "cell_type": "code",
   "execution_count": 15,
   "metadata": {
    "scrolled": false
   },
   "outputs": [],
   "source": [
    "fetch_result = fetch_sra_info(result['eSearchResult']['IdList']['Id'][0])"
   ]
  },
  {
   "cell_type": "code",
   "execution_count": 17,
   "metadata": {
    "scrolled": false
   },
   "outputs": [
    {
     "data": {
      "text/plain": [
       "odict_keys(['EXPERIMENT_PACKAGE_SET'])"
      ]
     },
     "execution_count": 17,
     "metadata": {},
     "output_type": "execute_result"
    }
   ],
   "source": [
    "fetch_result.keys()"
   ]
  },
  {
   "cell_type": "code",
   "execution_count": 32,
   "metadata": {
    "scrolled": true
   },
   "outputs": [
    {
     "data": {
      "text/plain": [
       "OrderedDict([('EXPERIMENT',\n",
       "              OrderedDict([('@accession', 'SRX3422726'),\n",
       "                           ('@alias', '9'),\n",
       "                           ('IDENTIFIERS',\n",
       "                            OrderedDict([('PRIMARY_ID', 'SRX3422726'),\n",
       "                                         ('SUBMITTER_ID',\n",
       "                                          OrderedDict([('@namespace',\n",
       "                                                        'SUB3255603'),\n",
       "                                                       ('#text', '9')]))])),\n",
       "                           ('TITLE',\n",
       "                            'Plant sample from Arabidopsis thaliana WTA-3'),\n",
       "                           ('STUDY_REF',\n",
       "                            OrderedDict([('@accession', 'SRP125650'),\n",
       "                                         ('IDENTIFIERS',\n",
       "                                          OrderedDict([('PRIMARY_ID',\n",
       "                                                        'SRP125650'),\n",
       "                                                       ('EXTERNAL_ID',\n",
       "                                                        OrderedDict([('@namespace',\n",
       "                                                                      'BioProject'),\n",
       "                                                                     ('#text',\n",
       "                                                                      'PRJNA419694')]))]))])),\n",
       "                           ('DESIGN',\n",
       "                            OrderedDict([('DESIGN_DESCRIPTION',\n",
       "                                          'Seeds from wilt type (WT) and transgenic lines (OE) were cultivated on MS agar medium, with or without stress treatment (0.5 μM ABA or 300 mM mannitol) for 7 d, and collected for RNA extraction. For each RNA purification biological replicate, 300 seedlings of WT or the OE lines from three MS agar plates were pooled to form a single sample. Three independent RNA samples were used for each experiment.'),\n",
       "                                         ('SAMPLE_DESCRIPTOR',\n",
       "                                          OrderedDict([('@accession',\n",
       "                                                        'SRS2714377'),\n",
       "                                                       ('IDENTIFIERS',\n",
       "                                                        OrderedDict([('PRIMARY_ID',\n",
       "                                                                      'SRS2714377'),\n",
       "                                                                     ('EXTERNAL_ID',\n",
       "                                                                      OrderedDict([('@namespace',\n",
       "                                                                                    'BioSample'),\n",
       "                                                                                   ('#text',\n",
       "                                                                                    'SAMN08095522')]))]))])),\n",
       "                                         ('LIBRARY_DESCRIPTOR',\n",
       "                                          OrderedDict([('LIBRARY_NAME', '9'),\n",
       "                                                       ('LIBRARY_STRATEGY',\n",
       "                                                        'RNA-Seq'),\n",
       "                                                       ('LIBRARY_SOURCE',\n",
       "                                                        'TRANSCRIPTOMIC'),\n",
       "                                                       ('LIBRARY_SELECTION',\n",
       "                                                        'RANDOM'),\n",
       "                                                       ('LIBRARY_LAYOUT',\n",
       "                                                        OrderedDict([('PAIRED',\n",
       "                                                                      None)]))]))])),\n",
       "                           ('PLATFORM',\n",
       "                            OrderedDict([('ILLUMINA',\n",
       "                                          OrderedDict([('INSTRUMENT_MODEL',\n",
       "                                                        'HiSeq X Ten')]))]))])),\n",
       "             ('SUBMISSION',\n",
       "              OrderedDict([('@lab_name', 'College of Horticulture'),\n",
       "                           ('@center_name', 'Northwest A&F University'),\n",
       "                           ('@accession', 'SRA633978'),\n",
       "                           ('@alias', 'SUB3255603'),\n",
       "                           ('IDENTIFIERS',\n",
       "                            OrderedDict([('PRIMARY_ID', 'SRA633978'),\n",
       "                                         ('SUBMITTER_ID',\n",
       "                                          OrderedDict([('@namespace',\n",
       "                                                        'Northwest A&F University'),\n",
       "                                                       ('#text',\n",
       "                                                        'SUB3255603')]))]))])),\n",
       "             ('Organization',\n",
       "              OrderedDict([('@type', 'institute'),\n",
       "                           ('Name', 'Northwest A&F University'),\n",
       "                           ('Address',\n",
       "                            OrderedDict([('@postal_code', '712100'),\n",
       "                                         ('Department',\n",
       "                                          'College of Horticulture'),\n",
       "                                         ('Institution',\n",
       "                                          'Northwest A&F University'),\n",
       "                                         ('Street', 'No.3 Taicheng Road'),\n",
       "                                         ('City', 'Yangling'),\n",
       "                                         ('Sub', 'Shanxi'),\n",
       "                                         ('Country', 'China')])),\n",
       "                           ('Contact',\n",
       "                            OrderedDict([('@email', 'tumx2017@sohu.com'),\n",
       "                                         ('@sec_email', 'tumingstar@qq.com'),\n",
       "                                         ('Address',\n",
       "                                          OrderedDict([('@postal_code',\n",
       "                                                        '712100'),\n",
       "                                                       ('Department',\n",
       "                                                        'College of Horticulture'),\n",
       "                                                       ('Institution',\n",
       "                                                        'Northwest A&F University'),\n",
       "                                                       ('Street',\n",
       "                                                        'No.3 Taicheng Road'),\n",
       "                                                       ('City', 'Yangling'),\n",
       "                                                       ('Sub', 'Shanxi'),\n",
       "                                                       ('Country', 'China')])),\n",
       "                                         ('Name',\n",
       "                                          OrderedDict([('First', 'Mingxing'),\n",
       "                                                       ('Last', 'Tu')]))]))])),\n",
       "             ('STUDY',\n",
       "              OrderedDict([('@center_name', 'BioProject'),\n",
       "                           ('@alias', 'PRJNA419694'),\n",
       "                           ('@accession', 'SRP125650'),\n",
       "                           ('IDENTIFIERS',\n",
       "                            OrderedDict([('PRIMARY_ID', 'SRP125650'),\n",
       "                                         ('EXTERNAL_ID',\n",
       "                                          OrderedDict([('@namespace',\n",
       "                                                        'BioProject'),\n",
       "                                                       ('@label', 'primary'),\n",
       "                                                       ('#text',\n",
       "                                                        'PRJNA419694')]))])),\n",
       "                           ('DESCRIPTOR',\n",
       "                            OrderedDict([('STUDY_TITLE',\n",
       "                                          'Arabidopsis thaliana cultivar:Col-0 Raw sequence reads'),\n",
       "                                         ('STUDY_TYPE',\n",
       "                                          OrderedDict([('@existing_study_type',\n",
       "                                                        'Other')])),\n",
       "                                         ('STUDY_ABSTRACT',\n",
       "                                          'Seeds from wilt type (WT) and transgenic lines (OE) were cultivated on MS agar medium, with or without stress treatment (0.5 µM ABA or 300 mM mannitol) for 7 d, and collected for RNA extraction. For each RNA purification biological replicate, 300 seedlings of WT or the OE lines from three MS agar plates were pooled to form a single sample. Three independent RNA samples were used for each experiment.'),\n",
       "                                         ('CENTER_PROJECT_NAME',\n",
       "                                          'Arabidopsis thaliana cultivar:Col-0')]))])),\n",
       "             ('SAMPLE',\n",
       "              OrderedDict([('@alias', 'WTA-3'),\n",
       "                           ('@accession', 'SRS2714377'),\n",
       "                           ('IDENTIFIERS',\n",
       "                            OrderedDict([('PRIMARY_ID', 'SRS2714377'),\n",
       "                                         ('EXTERNAL_ID',\n",
       "                                          OrderedDict([('@namespace',\n",
       "                                                        'BioSample'),\n",
       "                                                       ('#text',\n",
       "                                                        'SAMN08095522')])),\n",
       "                                         ('SUBMITTER_ID',\n",
       "                                          OrderedDict([('@namespace',\n",
       "                                                        'pda|tumx2017'),\n",
       "                                                       ('@label',\n",
       "                                                        'Sample name'),\n",
       "                                                       ('#text',\n",
       "                                                        'WTA-3')]))])),\n",
       "                           ('TITLE',\n",
       "                            'Plant sample from Arabidopsis thaliana WTA-3'),\n",
       "                           ('SAMPLE_NAME',\n",
       "                            OrderedDict([('TAXON_ID', '3702'),\n",
       "                                         ('SCIENTIFIC_NAME',\n",
       "                                          'Arabidopsis thaliana')])),\n",
       "                           ('SAMPLE_LINKS',\n",
       "                            OrderedDict([('SAMPLE_LINK',\n",
       "                                          OrderedDict([('XREF_LINK',\n",
       "                                                        OrderedDict([('DB',\n",
       "                                                                      'bioproject'),\n",
       "                                                                     ('ID',\n",
       "                                                                      '419694'),\n",
       "                                                                     ('LABEL',\n",
       "                                                                      'PRJNA419694')]))]))])),\n",
       "                           ('SAMPLE_ATTRIBUTES',\n",
       "                            OrderedDict([('SAMPLE_ATTRIBUTE',\n",
       "                                          [OrderedDict([('TAG', 'ecotype'),\n",
       "                                                        ('VALUE', 'Shanxi')]),\n",
       "                                           OrderedDict([('TAG', 'dev_stage'),\n",
       "                                                        ('VALUE', '1 weeks')]),\n",
       "                                           OrderedDict([('TAG',\n",
       "                                                         'geo_loc_name'),\n",
       "                                                        ('VALUE',\n",
       "                                                         'China:Shanxi')]),\n",
       "                                           OrderedDict([('TAG', 'tissue'),\n",
       "                                                        ('VALUE', 'seeds')]),\n",
       "                                           OrderedDict([('TAG',\n",
       "                                                         'BioSampleModel'),\n",
       "                                                        ('VALUE',\n",
       "                                                         'Plant')])])]))])),\n",
       "             ('Pool',\n",
       "              OrderedDict([('Member',\n",
       "                            OrderedDict([('@member_name', ''),\n",
       "                                         ('@accession', 'SRS2714377'),\n",
       "                                         ('@sample_name', 'WTA-3'),\n",
       "                                         ('@sample_title',\n",
       "                                          'Plant sample from Arabidopsis thaliana WTA-3'),\n",
       "                                         ('@spots', '26506307'),\n",
       "                                         ('@bases', '7902228002'),\n",
       "                                         ('@tax_id', '3702'),\n",
       "                                         ('@organism', 'Arabidopsis thaliana'),\n",
       "                                         ('IDENTIFIERS',\n",
       "                                          OrderedDict([('PRIMARY_ID',\n",
       "                                                        'SRS2714377'),\n",
       "                                                       ('EXTERNAL_ID',\n",
       "                                                        OrderedDict([('@namespace',\n",
       "                                                                      'BioSample'),\n",
       "                                                                     ('#text',\n",
       "                                                                      'SAMN08095522')])),\n",
       "                                                       ('SUBMITTER_ID',\n",
       "                                                        OrderedDict([('@namespace',\n",
       "                                                                      'pda|tumx2017'),\n",
       "                                                                     ('@label',\n",
       "                                                                      'Sample name'),\n",
       "                                                                     ('#text',\n",
       "                                                                      'WTA-3')]))]))]))])),\n",
       "             ('RUN_SET',\n",
       "              OrderedDict([('RUN',\n",
       "                            OrderedDict([('@accession', 'SRR6322945'),\n",
       "                                         ('@alias',\n",
       "                                          'Arab_E955-T09_good_1.fq.gz'),\n",
       "                                         ('@total_spots', '26506307'),\n",
       "                                         ('@total_bases', '7902228002'),\n",
       "                                         ('@size', '3459252981'),\n",
       "                                         ('@load_done', 'true'),\n",
       "                                         ('@published', '2017-11-26 20:23:11'),\n",
       "                                         ('@is_public', 'true'),\n",
       "                                         ('@cluster_name', 'public'),\n",
       "                                         ('@static_data_available', '1'),\n",
       "                                         ('IDENTIFIERS',\n",
       "                                          OrderedDict([('PRIMARY_ID',\n",
       "                                                        'SRR6322945'),\n",
       "                                                       ('SUBMITTER_ID',\n",
       "                                                        OrderedDict([('@namespace',\n",
       "                                                                      'SUB3255603'),\n",
       "                                                                     ('@label',\n",
       "                                                                      '8'),\n",
       "                                                                     ('#text',\n",
       "                                                                      'Arab_E955-T09_good_1.fq.gz')]))])),\n",
       "                                         ('EXPERIMENT_REF',\n",
       "                                          OrderedDict([('@accession',\n",
       "                                                        'SRX3422726'),\n",
       "                                                       ('IDENTIFIERS',\n",
       "                                                        OrderedDict([('SUBMITTER_ID',\n",
       "                                                                      OrderedDict([('@namespace',\n",
       "                                                                                    'SUB3255603'),\n",
       "                                                                                   ('#text',\n",
       "                                                                                    '9')]))]))])),\n",
       "                                         ('Pool',\n",
       "                                          OrderedDict([('Member',\n",
       "                                                        OrderedDict([('@member_name',\n",
       "                                                                      ''),\n",
       "                                                                     ('@accession',\n",
       "                                                                      'SRS2714377'),\n",
       "                                                                     ('@sample_name',\n",
       "                                                                      'WTA-3'),\n",
       "                                                                     ('@sample_title',\n",
       "                                                                      'Plant sample from Arabidopsis thaliana WTA-3'),\n",
       "                                                                     ('@spots',\n",
       "                                                                      '26506307'),\n",
       "                                                                     ('@bases',\n",
       "                                                                      '7902228002'),\n",
       "                                                                     ('@tax_id',\n",
       "                                                                      '3702'),\n",
       "                                                                     ('@organism',\n",
       "                                                                      'Arabidopsis thaliana'),\n",
       "                                                                     ('IDENTIFIERS',\n",
       "                                                                      OrderedDict([('PRIMARY_ID',\n",
       "                                                                                    'SRS2714377'),\n",
       "                                                                                   ('EXTERNAL_ID',\n",
       "                                                                                    OrderedDict([('@namespace',\n",
       "                                                                                                  'BioSample'),\n",
       "                                                                                                 ('#text',\n",
       "                                                                                                  'SAMN08095522')])),\n",
       "                                                                                   ('SUBMITTER_ID',\n",
       "                                                                                    OrderedDict([('@namespace',\n",
       "                                                                                                  'pda|tumx2017'),\n",
       "                                                                                                 ('@label',\n",
       "                                                                                                  'Sample name'),\n",
       "                                                                                                 ('#text',\n",
       "                                                                                                  'WTA-3')]))]))]))])),\n",
       "                                         ('Statistics',\n",
       "                                          OrderedDict([('@nreads', '2'),\n",
       "                                                       ('@nspots', '26506307'),\n",
       "                                                       ('Read',\n",
       "                                                        [OrderedDict([('@index',\n",
       "                                                                       '0'),\n",
       "                                                                      ('@count',\n",
       "                                                                       '26506307'),\n",
       "                                                                      ('@average',\n",
       "                                                                       '149.06'),\n",
       "                                                                      ('@stdev',\n",
       "                                                                       '5.23')]),\n",
       "                                                         OrderedDict([('@index',\n",
       "                                                                       '1'),\n",
       "                                                                      ('@count',\n",
       "                                                                       '26506307'),\n",
       "                                                                      ('@average',\n",
       "                                                                       '149.06'),\n",
       "                                                                      ('@stdev',\n",
       "                                                                       '5.23')])])])),\n",
       "                                         ('Databases',\n",
       "                                          OrderedDict([('Database',\n",
       "                                                        OrderedDict([('Table',\n",
       "                                                                      OrderedDict([('@name',\n",
       "                                                                                    'SEQUENCE'),\n",
       "                                                                                   ('Statistics',\n",
       "                                                                                    OrderedDict([('@source',\n",
       "                                                                                                  'meta'),\n",
       "                                                                                                 ('Rows',\n",
       "                                                                                                  OrderedDict([('@count',\n",
       "                                                                                                                '26506307')])),\n",
       "                                                                                                 ('Elements',\n",
       "                                                                                                  OrderedDict([('@count',\n",
       "                                                                                                                '7902228002')]))]))]))]))])),\n",
       "                                         ('Bases',\n",
       "                                          OrderedDict([('@cs_native', 'false'),\n",
       "                                                       ('@count',\n",
       "                                                        '7902228002'),\n",
       "                                                       ('Base',\n",
       "                                                        [OrderedDict([('@value',\n",
       "                                                                       'A'),\n",
       "                                                                      ('@count',\n",
       "                                                                       '2167719895')]),\n",
       "                                                         OrderedDict([('@value',\n",
       "                                                                       'C'),\n",
       "                                                                      ('@count',\n",
       "                                                                       '1806121709')]),\n",
       "                                                         OrderedDict([('@value',\n",
       "                                                                       'G'),\n",
       "                                                                      ('@count',\n",
       "                                                                       '1798931591')]),\n",
       "                                                         OrderedDict([('@value',\n",
       "                                                                       'T'),\n",
       "                                                                      ('@count',\n",
       "                                                                       '2129176991')]),\n",
       "                                                         OrderedDict([('@value',\n",
       "                                                                       'N'),\n",
       "                                                                      ('@count',\n",
       "                                                                       '277816')])])]))]))]))])"
      ]
     },
     "execution_count": 32,
     "metadata": {},
     "output_type": "execute_result"
    }
   ],
   "source": [
    "fetch_result['EXPERIMENT_PACKAGE_SET']['EXPERIMENT_PACKAGE']"
   ]
  },
  {
   "cell_type": "code",
   "execution_count": 20,
   "metadata": {},
   "outputs": [
    {
     "data": {
      "text/plain": [
       "odict_keys(['EXPERIMENT', 'SUBMISSION', 'Organization', 'STUDY', 'SAMPLE', 'Pool', 'RUN_SET'])"
      ]
     },
     "execution_count": 20,
     "metadata": {},
     "output_type": "execute_result"
    }
   ],
   "source": [
    "fetch_result['EXPERIMENT_PACKAGE_SET']['EXPERIMENT_PACKAGE'].keys()"
   ]
  },
  {
   "cell_type": "code",
   "execution_count": 34,
   "metadata": {},
   "outputs": [
    {
     "name": "stdout",
     "output_type": "stream",
     "text": [
      "key values:  EXPERIMENT\n",
      "odict_keys(['@accession', '@alias', 'IDENTIFIERS', 'TITLE', 'STUDY_REF', 'DESIGN', 'PLATFORM'])\n",
      "key values:  SUBMISSION\n",
      "odict_keys(['@lab_name', '@center_name', '@accession', '@alias', 'IDENTIFIERS'])\n",
      "key values:  Organization\n",
      "odict_keys(['@type', 'Name', 'Address', 'Contact'])\n",
      "key values:  STUDY\n",
      "odict_keys(['@center_name', '@alias', '@accession', 'IDENTIFIERS', 'DESCRIPTOR'])\n",
      "key values:  SAMPLE\n",
      "odict_keys(['@alias', '@accession', 'IDENTIFIERS', 'TITLE', 'SAMPLE_NAME', 'SAMPLE_LINKS', 'SAMPLE_ATTRIBUTES'])\n",
      "key values:  Pool\n",
      "odict_keys(['Member'])\n",
      "key values:  RUN_SET\n",
      "odict_keys(['RUN'])\n"
     ]
    }
   ],
   "source": [
    "for key in fetch_result['EXPERIMENT_PACKAGE_SET']['EXPERIMENT_PACKAGE'].keys():\n",
    "    print('key values: ', key)\n",
    "    print(fetch_result['EXPERIMENT_PACKAGE_SET']['EXPERIMENT_PACKAGE'][key].keys())"
   ]
  },
  {
   "cell_type": "code",
   "execution_count": 38,
   "metadata": {},
   "outputs": [
    {
     "name": "stdout",
     "output_type": "stream",
     "text": [
      "SRX3422726\n",
      "SRA633978\n",
      "SRP125650\n",
      "SRS2714377\n"
     ]
    }
   ],
   "source": [
    "print(fetch_result['EXPERIMENT_PACKAGE_SET']['EXPERIMENT_PACKAGE']['EXPERIMENT']['@accession'])\n",
    "print(fetch_result['EXPERIMENT_PACKAGE_SET']['EXPERIMENT_PACKAGE']['SUBMISSION']['@accession'])\n",
    "print(fetch_result['EXPERIMENT_PACKAGE_SET']['EXPERIMENT_PACKAGE']['STUDY']['@accession'])\n",
    "print(fetch_result['EXPERIMENT_PACKAGE_SET']['EXPERIMENT_PACKAGE']['SAMPLE']['@accession'])"
   ]
  },
  {
   "cell_type": "code",
   "execution_count": 40,
   "metadata": {},
   "outputs": [],
   "source": [
    "st = 'SRS2714377'"
   ]
  },
  {
   "cell_type": "code",
   "execution_count": 42,
   "metadata": {},
   "outputs": [
    {
     "data": {
      "text/plain": [
       "'2137'"
      ]
     },
     "execution_count": 42,
     "metadata": {},
     "output_type": "execute_result"
    }
   ],
   "source": [
    "st[3::2]"
   ]
  },
  {
   "cell_type": "code",
   "execution_count": 43,
   "metadata": {
    "collapsed": true
   },
   "outputs": [],
   "source": [
    "def chunks(l, n):\n",
    "    \"\"\"Yield successive n-sized chunks from l.\"\"\"\n",
    "    for i in range(0, len(l), n):\n",
    "        yield l[i:i + n]"
   ]
  },
  {
   "cell_type": "code",
   "execution_count": 48,
   "metadata": {},
   "outputs": [
    {
     "name": "stdout",
     "output_type": "stream",
     "text": [
      "['27', '14', '37', '7']\n"
     ]
    }
   ],
   "source": [
    "x = chunks(st[3:], 2)\n",
    "print([i for i in x])"
   ]
  },
  {
   "cell_type": "code",
   "execution_count": 30,
   "metadata": {
    "scrolled": true
   },
   "outputs": [
    {
     "data": {
      "text/plain": [
       "OrderedDict([('EXPERIMENT',\n",
       "              OrderedDict([('@accession', 'SRX3422726'),\n",
       "                           ('@alias', '9'),\n",
       "                           ('IDENTIFIERS',\n",
       "                            OrderedDict([('PRIMARY_ID', 'SRX3422726'),\n",
       "                                         ('SUBMITTER_ID',\n",
       "                                          OrderedDict([('@namespace',\n",
       "                                                        'SUB3255603'),\n",
       "                                                       ('#text', '9')]))])),\n",
       "                           ('TITLE',\n",
       "                            'Plant sample from Arabidopsis thaliana WTA-3'),\n",
       "                           ('STUDY_REF',\n",
       "                            OrderedDict([('@accession', 'SRP125650'),\n",
       "                                         ('IDENTIFIERS',\n",
       "                                          OrderedDict([('PRIMARY_ID',\n",
       "                                                        'SRP125650'),\n",
       "                                                       ('EXTERNAL_ID',\n",
       "                                                        OrderedDict([('@namespace',\n",
       "                                                                      'BioProject'),\n",
       "                                                                     ('#text',\n",
       "                                                                      'PRJNA419694')]))]))])),\n",
       "                           ('DESIGN',\n",
       "                            OrderedDict([('DESIGN_DESCRIPTION',\n",
       "                                          'Seeds from wilt type (WT) and transgenic lines (OE) were cultivated on MS agar medium, with or without stress treatment (0.5 μM ABA or 300 mM mannitol) for 7 d, and collected for RNA extraction. For each RNA purification biological replicate, 300 seedlings of WT or the OE lines from three MS agar plates were pooled to form a single sample. Three independent RNA samples were used for each experiment.'),\n",
       "                                         ('SAMPLE_DESCRIPTOR',\n",
       "                                          OrderedDict([('@accession',\n",
       "                                                        'SRS2714377'),\n",
       "                                                       ('IDENTIFIERS',\n",
       "                                                        OrderedDict([('PRIMARY_ID',\n",
       "                                                                      'SRS2714377'),\n",
       "                                                                     ('EXTERNAL_ID',\n",
       "                                                                      OrderedDict([('@namespace',\n",
       "                                                                                    'BioSample'),\n",
       "                                                                                   ('#text',\n",
       "                                                                                    'SAMN08095522')]))]))])),\n",
       "                                         ('LIBRARY_DESCRIPTOR',\n",
       "                                          OrderedDict([('LIBRARY_NAME', '9'),\n",
       "                                                       ('LIBRARY_STRATEGY',\n",
       "                                                        'RNA-Seq'),\n",
       "                                                       ('LIBRARY_SOURCE',\n",
       "                                                        'TRANSCRIPTOMIC'),\n",
       "                                                       ('LIBRARY_SELECTION',\n",
       "                                                        'RANDOM'),\n",
       "                                                       ('LIBRARY_LAYOUT',\n",
       "                                                        OrderedDict([('PAIRED',\n",
       "                                                                      None)]))]))])),\n",
       "                           ('PLATFORM',\n",
       "                            OrderedDict([('ILLUMINA',\n",
       "                                          OrderedDict([('INSTRUMENT_MODEL',\n",
       "                                                        'HiSeq X Ten')]))]))])),\n",
       "             ('SUBMISSION',\n",
       "              OrderedDict([('@lab_name', 'College of Horticulture'),\n",
       "                           ('@center_name', 'Northwest A&F University'),\n",
       "                           ('@accession', 'SRA633978'),\n",
       "                           ('@alias', 'SUB3255603'),\n",
       "                           ('IDENTIFIERS',\n",
       "                            OrderedDict([('PRIMARY_ID', 'SRA633978'),\n",
       "                                         ('SUBMITTER_ID',\n",
       "                                          OrderedDict([('@namespace',\n",
       "                                                        'Northwest A&F University'),\n",
       "                                                       ('#text',\n",
       "                                                        'SUB3255603')]))]))])),\n",
       "             ('Organization',\n",
       "              OrderedDict([('@type', 'institute'),\n",
       "                           ('Name', 'Northwest A&F University'),\n",
       "                           ('Address',\n",
       "                            OrderedDict([('@postal_code', '712100'),\n",
       "                                         ('Department',\n",
       "                                          'College of Horticulture'),\n",
       "                                         ('Institution',\n",
       "                                          'Northwest A&F University'),\n",
       "                                         ('Street', 'No.3 Taicheng Road'),\n",
       "                                         ('City', 'Yangling'),\n",
       "                                         ('Sub', 'Shanxi'),\n",
       "                                         ('Country', 'China')])),\n",
       "                           ('Contact',\n",
       "                            OrderedDict([('@email', 'tumx2017@sohu.com'),\n",
       "                                         ('@sec_email', 'tumingstar@qq.com'),\n",
       "                                         ('Address',\n",
       "                                          OrderedDict([('@postal_code',\n",
       "                                                        '712100'),\n",
       "                                                       ('Department',\n",
       "                                                        'College of Horticulture'),\n",
       "                                                       ('Institution',\n",
       "                                                        'Northwest A&F University'),\n",
       "                                                       ('Street',\n",
       "                                                        'No.3 Taicheng Road'),\n",
       "                                                       ('City', 'Yangling'),\n",
       "                                                       ('Sub', 'Shanxi'),\n",
       "                                                       ('Country', 'China')])),\n",
       "                                         ('Name',\n",
       "                                          OrderedDict([('First', 'Mingxing'),\n",
       "                                                       ('Last', 'Tu')]))]))])),\n",
       "             ('STUDY',\n",
       "              OrderedDict([('@center_name', 'BioProject'),\n",
       "                           ('@alias', 'PRJNA419694'),\n",
       "                           ('@accession', 'SRP125650'),\n",
       "                           ('IDENTIFIERS',\n",
       "                            OrderedDict([('PRIMARY_ID', 'SRP125650'),\n",
       "                                         ('EXTERNAL_ID',\n",
       "                                          OrderedDict([('@namespace',\n",
       "                                                        'BioProject'),\n",
       "                                                       ('@label', 'primary'),\n",
       "                                                       ('#text',\n",
       "                                                        'PRJNA419694')]))])),\n",
       "                           ('DESCRIPTOR',\n",
       "                            OrderedDict([('STUDY_TITLE',\n",
       "                                          'Arabidopsis thaliana cultivar:Col-0 Raw sequence reads'),\n",
       "                                         ('STUDY_TYPE',\n",
       "                                          OrderedDict([('@existing_study_type',\n",
       "                                                        'Other')])),\n",
       "                                         ('STUDY_ABSTRACT',\n",
       "                                          'Seeds from wilt type (WT) and transgenic lines (OE) were cultivated on MS agar medium, with or without stress treatment (0.5 µM ABA or 300 mM mannitol) for 7 d, and collected for RNA extraction. For each RNA purification biological replicate, 300 seedlings of WT or the OE lines from three MS agar plates were pooled to form a single sample. Three independent RNA samples were used for each experiment.'),\n",
       "                                         ('CENTER_PROJECT_NAME',\n",
       "                                          'Arabidopsis thaliana cultivar:Col-0')]))])),\n",
       "             ('SAMPLE',\n",
       "              OrderedDict([('@alias', 'WTA-3'),\n",
       "                           ('@accession', 'SRS2714377'),\n",
       "                           ('IDENTIFIERS',\n",
       "                            OrderedDict([('PRIMARY_ID', 'SRS2714377'),\n",
       "                                         ('EXTERNAL_ID',\n",
       "                                          OrderedDict([('@namespace',\n",
       "                                                        'BioSample'),\n",
       "                                                       ('#text',\n",
       "                                                        'SAMN08095522')])),\n",
       "                                         ('SUBMITTER_ID',\n",
       "                                          OrderedDict([('@namespace',\n",
       "                                                        'pda|tumx2017'),\n",
       "                                                       ('@label',\n",
       "                                                        'Sample name'),\n",
       "                                                       ('#text',\n",
       "                                                        'WTA-3')]))])),\n",
       "                           ('TITLE',\n",
       "                            'Plant sample from Arabidopsis thaliana WTA-3'),\n",
       "                           ('SAMPLE_NAME',\n",
       "                            OrderedDict([('TAXON_ID', '3702'),\n",
       "                                         ('SCIENTIFIC_NAME',\n",
       "                                          'Arabidopsis thaliana')])),\n",
       "                           ('SAMPLE_LINKS',\n",
       "                            OrderedDict([('SAMPLE_LINK',\n",
       "                                          OrderedDict([('XREF_LINK',\n",
       "                                                        OrderedDict([('DB',\n",
       "                                                                      'bioproject'),\n",
       "                                                                     ('ID',\n",
       "                                                                      '419694'),\n",
       "                                                                     ('LABEL',\n",
       "                                                                      'PRJNA419694')]))]))])),\n",
       "                           ('SAMPLE_ATTRIBUTES',\n",
       "                            OrderedDict([('SAMPLE_ATTRIBUTE',\n",
       "                                          [OrderedDict([('TAG', 'ecotype'),\n",
       "                                                        ('VALUE', 'Shanxi')]),\n",
       "                                           OrderedDict([('TAG', 'dev_stage'),\n",
       "                                                        ('VALUE', '1 weeks')]),\n",
       "                                           OrderedDict([('TAG',\n",
       "                                                         'geo_loc_name'),\n",
       "                                                        ('VALUE',\n",
       "                                                         'China:Shanxi')]),\n",
       "                                           OrderedDict([('TAG', 'tissue'),\n",
       "                                                        ('VALUE', 'seeds')]),\n",
       "                                           OrderedDict([('TAG',\n",
       "                                                         'BioSampleModel'),\n",
       "                                                        ('VALUE',\n",
       "                                                         'Plant')])])]))])),\n",
       "             ('Pool',\n",
       "              OrderedDict([('Member',\n",
       "                            OrderedDict([('@member_name', ''),\n",
       "                                         ('@accession', 'SRS2714377'),\n",
       "                                         ('@sample_name', 'WTA-3'),\n",
       "                                         ('@sample_title',\n",
       "                                          'Plant sample from Arabidopsis thaliana WTA-3'),\n",
       "                                         ('@spots', '26506307'),\n",
       "                                         ('@bases', '7902228002'),\n",
       "                                         ('@tax_id', '3702'),\n",
       "                                         ('@organism', 'Arabidopsis thaliana'),\n",
       "                                         ('IDENTIFIERS',\n",
       "                                          OrderedDict([('PRIMARY_ID',\n",
       "                                                        'SRS2714377'),\n",
       "                                                       ('EXTERNAL_ID',\n",
       "                                                        OrderedDict([('@namespace',\n",
       "                                                                      'BioSample'),\n",
       "                                                                     ('#text',\n",
       "                                                                      'SAMN08095522')])),\n",
       "                                                       ('SUBMITTER_ID',\n",
       "                                                        OrderedDict([('@namespace',\n",
       "                                                                      'pda|tumx2017'),\n",
       "                                                                     ('@label',\n",
       "                                                                      'Sample name'),\n",
       "                                                                     ('#text',\n",
       "                                                                      'WTA-3')]))]))]))])),\n",
       "             ('RUN_SET',\n",
       "              OrderedDict([('RUN',\n",
       "                            OrderedDict([('@accession', 'SRR6322945'),\n",
       "                                         ('@alias',\n",
       "                                          'Arab_E955-T09_good_1.fq.gz'),\n",
       "                                         ('@total_spots', '26506307'),\n",
       "                                         ('@total_bases', '7902228002'),\n",
       "                                         ('@size', '3459252981'),\n",
       "                                         ('@load_done', 'true'),\n",
       "                                         ('@published', '2017-11-26 20:23:11'),\n",
       "                                         ('@is_public', 'true'),\n",
       "                                         ('@cluster_name', 'public'),\n",
       "                                         ('@static_data_available', '1'),\n",
       "                                         ('IDENTIFIERS',\n",
       "                                          OrderedDict([('PRIMARY_ID',\n",
       "                                                        'SRR6322945'),\n",
       "                                                       ('SUBMITTER_ID',\n",
       "                                                        OrderedDict([('@namespace',\n",
       "                                                                      'SUB3255603'),\n",
       "                                                                     ('@label',\n",
       "                                                                      '8'),\n",
       "                                                                     ('#text',\n",
       "                                                                      'Arab_E955-T09_good_1.fq.gz')]))])),\n",
       "                                         ('EXPERIMENT_REF',\n",
       "                                          OrderedDict([('@accession',\n",
       "                                                        'SRX3422726'),\n",
       "                                                       ('IDENTIFIERS',\n",
       "                                                        OrderedDict([('SUBMITTER_ID',\n",
       "                                                                      OrderedDict([('@namespace',\n",
       "                                                                                    'SUB3255603'),\n",
       "                                                                                   ('#text',\n",
       "                                                                                    '9')]))]))])),\n",
       "                                         ('Pool',\n",
       "                                          OrderedDict([('Member',\n",
       "                                                        OrderedDict([('@member_name',\n",
       "                                                                      ''),\n",
       "                                                                     ('@accession',\n",
       "                                                                      'SRS2714377'),\n",
       "                                                                     ('@sample_name',\n",
       "                                                                      'WTA-3'),\n",
       "                                                                     ('@sample_title',\n",
       "                                                                      'Plant sample from Arabidopsis thaliana WTA-3'),\n",
       "                                                                     ('@spots',\n",
       "                                                                      '26506307'),\n",
       "                                                                     ('@bases',\n",
       "                                                                      '7902228002'),\n",
       "                                                                     ('@tax_id',\n",
       "                                                                      '3702'),\n",
       "                                                                     ('@organism',\n",
       "                                                                      'Arabidopsis thaliana'),\n",
       "                                                                     ('IDENTIFIERS',\n",
       "                                                                      OrderedDict([('PRIMARY_ID',\n",
       "                                                                                    'SRS2714377'),\n",
       "                                                                                   ('EXTERNAL_ID',\n",
       "                                                                                    OrderedDict([('@namespace',\n",
       "                                                                                                  'BioSample'),\n",
       "                                                                                                 ('#text',\n",
       "                                                                                                  'SAMN08095522')])),\n",
       "                                                                                   ('SUBMITTER_ID',\n",
       "                                                                                    OrderedDict([('@namespace',\n",
       "                                                                                                  'pda|tumx2017'),\n",
       "                                                                                                 ('@label',\n",
       "                                                                                                  'Sample name'),\n",
       "                                                                                                 ('#text',\n",
       "                                                                                                  'WTA-3')]))]))]))])),\n",
       "                                         ('Statistics',\n",
       "                                          OrderedDict([('@nreads', '2'),\n",
       "                                                       ('@nspots', '26506307'),\n",
       "                                                       ('Read',\n",
       "                                                        [OrderedDict([('@index',\n",
       "                                                                       '0'),\n",
       "                                                                      ('@count',\n",
       "                                                                       '26506307'),\n",
       "                                                                      ('@average',\n",
       "                                                                       '149.06'),\n",
       "                                                                      ('@stdev',\n",
       "                                                                       '5.23')]),\n",
       "                                                         OrderedDict([('@index',\n",
       "                                                                       '1'),\n",
       "                                                                      ('@count',\n",
       "                                                                       '26506307'),\n",
       "                                                                      ('@average',\n",
       "                                                                       '149.06'),\n",
       "                                                                      ('@stdev',\n",
       "                                                                       '5.23')])])])),\n",
       "                                         ('Databases',\n",
       "                                          OrderedDict([('Database',\n",
       "                                                        OrderedDict([('Table',\n",
       "                                                                      OrderedDict([('@name',\n",
       "                                                                                    'SEQUENCE'),\n",
       "                                                                                   ('Statistics',\n",
       "                                                                                    OrderedDict([('@source',\n",
       "                                                                                                  'meta'),\n",
       "                                                                                                 ('Rows',\n",
       "                                                                                                  OrderedDict([('@count',\n",
       "                                                                                                                '26506307')])),\n",
       "                                                                                                 ('Elements',\n",
       "                                                                                                  OrderedDict([('@count',\n",
       "                                                                                                                '7902228002')]))]))]))]))])),\n",
       "                                         ('Bases',\n",
       "                                          OrderedDict([('@cs_native', 'false'),\n",
       "                                                       ('@count',\n",
       "                                                        '7902228002'),\n",
       "                                                       ('Base',\n",
       "                                                        [OrderedDict([('@value',\n",
       "                                                                       'A'),\n",
       "                                                                      ('@count',\n",
       "                                                                       '2167719895')]),\n",
       "                                                         OrderedDict([('@value',\n",
       "                                                                       'C'),\n",
       "                                                                      ('@count',\n",
       "                                                                       '1806121709')]),\n",
       "                                                         OrderedDict([('@value',\n",
       "                                                                       'G'),\n",
       "                                                                      ('@count',\n",
       "                                                                       '1798931591')]),\n",
       "                                                         OrderedDict([('@value',\n",
       "                                                                       'T'),\n",
       "                                                                      ('@count',\n",
       "                                                                       '2129176991')]),\n",
       "                                                         OrderedDict([('@value',\n",
       "                                                                       'N'),\n",
       "                                                                      ('@count',\n",
       "                                                                       '277816')])])]))]))]))])"
      ]
     },
     "execution_count": 30,
     "metadata": {},
     "output_type": "execute_result"
    }
   ],
   "source": [
    "fetch_result['EXPERIMENT_PACKAGE_SET']['EXPERIMENT_PACKAGE']#['EXPERIMENT']"
   ]
  },
  {
   "cell_type": "code",
   "execution_count": 28,
   "metadata": {},
   "outputs": [
    {
     "data": {
      "text/plain": [
       "'SRX3422726'"
      ]
     },
     "execution_count": 28,
     "metadata": {},
     "output_type": "execute_result"
    }
   ],
   "source": [
    "fetch_result['EXPERIMENT_PACKAGE_SET']['EXPERIMENT_PACKAGE']\\\n",
    "        ['EXPERIMENT']['@accession']"
   ]
  },
  {
   "cell_type": "code",
   "execution_count": null,
   "metadata": {
    "collapsed": true
   },
   "outputs": [],
   "source": []
  }
 ],
 "metadata": {
  "kernelspec": {
   "display_name": "Python 3",
   "language": "python",
   "name": "python3"
  },
  "language_info": {
   "codemirror_mode": {
    "name": "ipython",
    "version": 3
   },
   "file_extension": ".py",
   "mimetype": "text/x-python",
   "name": "python",
   "nbconvert_exporter": "python",
   "pygments_lexer": "ipython3",
   "version": "3.6.3"
  }
 },
 "nbformat": 4,
 "nbformat_minor": 2
}
