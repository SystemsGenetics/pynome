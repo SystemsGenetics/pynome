{
 "cells": [
  {
   "cell_type": "markdown",
   "metadata": {},
   "source": [
    "# SRA Testing Module\n",
    "For scratch testing of the SRA module."
   ]
  },
  {
   "cell_type": "code",
   "execution_count": 1,
   "metadata": {
    "collapsed": true
   },
   "outputs": [],
   "source": [
    "# Enable autorealod so that modified files can be re-loaded\n",
    "# with out restarting the kernel.\n",
    "%load_ext autoreload\n",
    "%autoreload 2"
   ]
  },
  {
   "cell_type": "code",
   "execution_count": 2,
   "metadata": {},
   "outputs": [
    {
     "data": {
      "text/plain": [
       "'C:\\\\Users\\\\Tyler\\\\git\\\\pynome\\\\tests'"
      ]
     },
     "execution_count": 2,
     "metadata": {},
     "output_type": "execute_result"
    }
   ],
   "source": [
    "%pwd"
   ]
  },
  {
   "cell_type": "code",
   "execution_count": 60,
   "metadata": {
    "collapsed": true
   },
   "outputs": [],
   "source": [
    "# Add the path of the pynome project.\n",
    "import os\n",
    "import csv\n",
    "import json\n",
    "import sys\n",
    "sys.path.insert(0, os.path.abspath('..'))"
   ]
  },
  {
   "cell_type": "code",
   "execution_count": 61,
   "metadata": {
    "collapsed": true
   },
   "outputs": [],
   "source": [
    "from pynome.sra import (\n",
    "    build_sra_query_string,\n",
    "    run_sra_query,\n",
    "    fetch_sra_info,\n",
    "    parse_sra_query_response,\n",
    "    get_SRA_accession,\n",
    "    chunk_accession_id, build_sra_path\n",
    ")"
   ]
  },
  {
   "cell_type": "code",
   "execution_count": 62,
   "metadata": {
    "collapsed": true
   },
   "outputs": [],
   "source": [
    "# print(fetch_result['EXPERIMENT_PACKAGE_SET']['EXPERIMENT_PACKAGE']['EXPERIMENT']['@accession'])\n",
    "# print(fetch_result['EXPERIMENT_PACKAGE_SET']['EXPERIMENT_PACKAGE']['SUBMISSION']['@accession'])\n",
    "# print(fetch_result['EXPERIMENT_PACKAGE_SET']['EXPERIMENT_PACKAGE']['STUDY']['@accession'])\n",
    "# print(fetch_result['EXPERIMENT_PACKAGE_SET']['EXPERIMENT_PACKAGE']['SAMPLE']['@accession'])"
   ]
  },
  {
   "cell_type": "code",
   "execution_count": 77,
   "metadata": {},
   "outputs": [],
   "source": [
    "def download_sra_json(taxonomy_id_list, base_download_path=None):\n",
    "    \"\"\"\n",
    "    Downloads the SRA metadata for each ID found in the\n",
    "    `taxonomy_id_list`. These files are saved under a series of\n",
    "    two-digit file  paths generated from the SRA accession number.\n",
    "\n",
    "    :param taxonomy_id_list:\n",
    "        A list of taxonomy identification values.\n",
    "    :param base_download_path:\n",
    "        The base location where the SRA accession number folders\n",
    "        will be placed.\n",
    "    :return:\n",
    "        A list of success or failures, indexed the same as the\n",
    "        input `taxonomy_id_list`.\n",
    "    \"\"\"\n",
    "\n",
    "    # Create the output status dictionary to track whether a given\n",
    "    # taxonomy ID was downloaded successfully or not.\n",
    "    status_list = dict()\n",
    "\n",
    "    # For each of the taxonomy ID numbers provided.\n",
    "    for id in taxonomy_id_list:\n",
    "\n",
    "        # Generate the corresponding query.\n",
    "        query = build_sra_query_string(id)\n",
    "        print(\"\\nQUERY: \\n\", query)\n",
    "\n",
    "        # Run the query.\n",
    "        query_response = run_sra_query(query)\n",
    "        print(\"\\nRESPONSE: \\n\", query_response)\n",
    "\n",
    "        # Parse the response, get the list of SRA identification\n",
    "        # numbers so that the corresponding metadata can be\n",
    "        # downloaded.\n",
    "        fetch_id_list = parse_sra_query_response(query_response)\n",
    "        print(\"\\nFETCHED ID LIST: \\n\", fetch_id_list)\n",
    "        \n",
    "        # If there are any accession values found.\n",
    "        if fetch_id_list is not None:\n",
    "\n",
    "            # Iterate through the fetch ID numbers.\n",
    "            for fetch_id in fetch_id_list:\n",
    "\n",
    "                # Get the desired *.json file associated with\n",
    "                # the current fetch ID.\n",
    "                print('FETCH ID', fetch_id)\n",
    "                fetch_result = fetch_sra_info(fetch_id)\n",
    "\n",
    "                # Get the ERR or SRR from the fetched result.\n",
    "                SRA_accession_list = get_SRA_accession(fetch_result)\n",
    "                print(\"\\nSRA accession:\\n\", SRA_accession_list)\n",
    "            \n",
    "                for sra_id in SRA_accession_list:\n",
    "                    print('sra_id', sra_id)\n",
    "                    \n",
    "                    # Create the broken up path.\n",
    "                    path = build_sra_path(sra_id)\n",
    "                    print(path)\n",
    "                    \n",
    "                    # Create this path if it does not exist.\n",
    "                    if not os.path.exists(path):\n",
    "                        os.makedirs(path)\n",
    "                        \n",
    "                    # Write the file.\n",
    "                    with open(os.path.join(path, sra_id + '.sra.json'), 'w') as nfp:\n",
    "                        nfp.write(json.dumps(fetch_result))\n",
    "                    \n",
    "                    print(\"\\nFILE WRITTEN AT:\\n\", path, sra_id + '.sra.json')"
   ]
  },
  {
   "cell_type": "code",
   "execution_count": 78,
   "metadata": {
    "scrolled": false
   },
   "outputs": [
    {
     "name": "stdout",
     "output_type": "stream",
     "text": [
      "\n",
      "QUERY: \n",
      " txid1094985[Organism:noexp]+AND+biomol+rna[Properties]+AND+platform+illumina[Properties]+AND+100:1000[ReadLength]+AND+\"paired\"[Layout]\n",
      "\n",
      "RESPONSE: \n",
      " OrderedDict([('eSearchResult', OrderedDict([('Count', '1'), ('RetMax', '1'), ('RetStart', '0'), ('IdList', OrderedDict([('Id', '244092')])), ('TranslationSet', None), ('TranslationStack', OrderedDict([('TermSet', [OrderedDict([('Term', 'txid1094985[Organism:noexp]'), ('Field', 'Organism'), ('Count', '3'), ('Explode', 'N')]), OrderedDict([('Term', 'biomol rna[Properties]'), ('Field', 'Properties'), ('Count', '779724'), ('Explode', 'N')]), OrderedDict([('Term', 'platform illumina[Properties]'), ('Field', 'Properties'), ('Count', '3177818'), ('Explode', 'N')]), OrderedDict([('Term', '00000000100[ReadLength]'), ('Field', 'ReadLength'), ('Count', '0'), ('Explode', 'N')]), OrderedDict([('Term', '00000001000[ReadLength]'), ('Field', 'ReadLength'), ('Count', '0'), ('Explode', 'N')]), OrderedDict([('Term', '\"paired\"[Layout]'), ('Field', 'Layout'), ('Count', '2367418'), ('Explode', 'N')])]), ('OP', ['AND', 'AND', 'RANGE', 'AND', 'AND'])])), ('QueryTranslation', 'txid1094985[Organism:noexp] AND biomol rna[Properties] AND platform illumina[Properties] AND 00000000100[ReadLength] : 00000001000[ReadLength] AND \"paired\"[Layout]')]))])\n",
      "\n",
      "FETCHED ID LIST: \n",
      " ['244092']\n",
      "FETCH ID 244092\n",
      "\n",
      "SRA accession:\n",
      " ['SRR567702', 'SRR567707', 'SRR567731', 'SRR567745']\n",
      "sra_id SRR567702\n",
      "RNA-Seq\\SRA\\SRR\\56\\77\\02\n",
      "\n",
      "FILE WRITTEN AT:\n",
      " RNA-Seq\\SRA\\SRR\\56\\77\\02 SRR567702.sra.json\n",
      "sra_id SRR567707\n",
      "RNA-Seq\\SRA\\SRR\\56\\77\\07\n",
      "\n",
      "FILE WRITTEN AT:\n",
      " RNA-Seq\\SRA\\SRR\\56\\77\\07 SRR567707.sra.json\n",
      "sra_id SRR567731\n",
      "RNA-Seq\\SRA\\SRR\\56\\77\\31\n",
      "\n",
      "FILE WRITTEN AT:\n",
      " RNA-Seq\\SRA\\SRR\\56\\77\\31 SRR567731.sra.json\n",
      "sra_id SRR567745\n",
      "RNA-Seq\\SRA\\SRR\\56\\77\\45\n",
      "\n",
      "FILE WRITTEN AT:\n",
      " RNA-Seq\\SRA\\SRR\\56\\77\\45 SRR567745.sra.json\n"
     ]
    }
   ],
   "source": [
    "download_sra_json(['1094985'])"
   ]
  },
  {
   "cell_type": "code",
   "execution_count": 8,
   "metadata": {
    "collapsed": true
   },
   "outputs": [],
   "source": [
    "tax_id_list = [1290391,999810,1124627,1356009,1094988,1094985,1094992,1094990,1094989,294748]"
   ]
  },
  {
   "cell_type": "code",
   "execution_count": 9,
   "metadata": {
    "collapsed": true
   },
   "outputs": [],
   "source": [
    "test_fetch_result = fetch_sra_info('149157')"
   ]
  },
  {
   "cell_type": "code",
   "execution_count": 10,
   "metadata": {
    "collapsed": true
   },
   "outputs": [],
   "source": [
    "test_fetch_result2 = fetch_sra_info('147979')"
   ]
  },
  {
   "cell_type": "code",
   "execution_count": 11,
   "metadata": {
    "scrolled": true
   },
   "outputs": [
    {
     "data": {
      "text/plain": [
       "'SRR489777'"
      ]
     },
     "execution_count": 11,
     "metadata": {},
     "output_type": "execute_result"
    }
   ],
   "source": [
    "test_fetch_result2['EXPERIMENT_PACKAGE_SET']['EXPERIMENT_PACKAGE']['RUN_SET']['RUN'][0]['@accession']"
   ]
  },
  {
   "cell_type": "code",
   "execution_count": 12,
   "metadata": {
    "scrolled": true
   },
   "outputs": [
    {
     "data": {
      "text/plain": [
       "'SRR447617'"
      ]
     },
     "execution_count": 12,
     "metadata": {},
     "output_type": "execute_result"
    }
   ],
   "source": [
    "# test_fetch_result['EXPERIMENT_PACKAGE_SET']['EXPERIMENT_PACKAGE']['RUN_SET']['RUN']['@accession']"
   ]
  },
  {
   "cell_type": "code",
   "execution_count": 14,
   "metadata": {
    "scrolled": true
   },
   "outputs": [
    {
     "name": "stdout",
     "output_type": "stream",
     "text": [
      "\n",
      "QUERY: \n",
      " txid1290391[Organism:noexp]+AND+biomol+rna[Properties]+AND+platform+illumina[Properties]+AND+100:1000[ReadLength]+AND+\"paired\"[Layout]\n",
      "\n",
      "RESPONSE: \n",
      " OrderedDict([('eSearchResult', OrderedDict([('Count', '0'), ('RetMax', '0'), ('RetStart', '0'), ('IdList', None), ('TranslationSet', None), ('TranslationStack', OrderedDict([('TermSet', [OrderedDict([('Term', 'txid1290391[Organism:noexp]'), ('Field', 'Organism'), ('Count', '1'), ('Explode', 'N')]), OrderedDict([('Term', 'biomol rna[Properties]'), ('Field', 'Properties'), ('Count', '779724'), ('Explode', 'N')]), OrderedDict([('Term', 'platform illumina[Properties]'), ('Field', 'Properties'), ('Count', '3177818'), ('Explode', 'N')]), OrderedDict([('Term', '00000000100[ReadLength]'), ('Field', 'ReadLength'), ('Count', '0'), ('Explode', 'N')]), OrderedDict([('Term', '00000001000[ReadLength]'), ('Field', 'ReadLength'), ('Count', '0'), ('Explode', 'N')]), OrderedDict([('Term', '\"paired\"[Layout]'), ('Field', 'Layout'), ('Count', '2367418'), ('Explode', 'N')])]), ('OP', ['AND', 'AND', 'RANGE', 'AND', 'AND'])])), ('QueryTranslation', 'txid1290391[Organism:noexp] AND biomol rna[Properties] AND platform illumina[Properties] AND 00000000100[ReadLength] : 00000001000[ReadLength] AND \"paired\"[Layout]')]))])\n",
      "\n",
      "FETCHED ID LIST: \n",
      " None\n",
      "\n",
      "QUERY: \n",
      " txid999810[Organism:noexp]+AND+biomol+rna[Properties]+AND+platform+illumina[Properties]+AND+100:1000[ReadLength]+AND+\"paired\"[Layout]\n",
      "\n",
      "RESPONSE: \n",
      " OrderedDict([('eSearchResult', OrderedDict([('Count', '0'), ('RetMax', '0'), ('RetStart', '0'), ('IdList', None), ('TranslationSet', None), ('QueryTranslation', 'txid999810[Organism:noexp] AND biomol rna[Properties] AND platform illumina[Properties] AND 00000000100[ReadLength] : 00000001000[ReadLength] AND \"paired\"[Layout]'), ('ErrorList', OrderedDict([('PhraseNotFound', 'txid999810[Organism:noexp]')])), ('WarningList', OrderedDict([('OutputMessage', 'No items found.')]))]))])\n",
      "\n",
      "FETCHED ID LIST: \n",
      " None\n",
      "\n",
      "QUERY: \n",
      " txid1124627[Organism:noexp]+AND+biomol+rna[Properties]+AND+platform+illumina[Properties]+AND+100:1000[ReadLength]+AND+\"paired\"[Layout]\n",
      "\n",
      "RESPONSE: \n",
      " OrderedDict([('eSearchResult', OrderedDict([('Count', '0'), ('RetMax', '0'), ('RetStart', '0'), ('IdList', None), ('TranslationSet', None), ('TranslationStack', OrderedDict([('TermSet', [OrderedDict([('Term', 'txid1124627[Organism:noexp]'), ('Field', 'Organism'), ('Count', '2'), ('Explode', 'N')]), OrderedDict([('Term', 'biomol rna[Properties]'), ('Field', 'Properties'), ('Count', '779724'), ('Explode', 'N')]), OrderedDict([('Term', 'platform illumina[Properties]'), ('Field', 'Properties'), ('Count', '3177818'), ('Explode', 'N')]), OrderedDict([('Term', '00000000100[ReadLength]'), ('Field', 'ReadLength'), ('Count', '0'), ('Explode', 'N')]), OrderedDict([('Term', '00000001000[ReadLength]'), ('Field', 'ReadLength'), ('Count', '0'), ('Explode', 'N')]), OrderedDict([('Term', '\"paired\"[Layout]'), ('Field', 'Layout'), ('Count', '2367418'), ('Explode', 'N')])]), ('OP', ['AND', 'AND', 'RANGE', 'AND', 'AND'])])), ('QueryTranslation', 'txid1124627[Organism:noexp] AND biomol rna[Properties] AND platform illumina[Properties] AND 00000000100[ReadLength] : 00000001000[ReadLength] AND \"paired\"[Layout]')]))])\n",
      "\n",
      "FETCHED ID LIST: \n",
      " None\n",
      "\n",
      "QUERY: \n",
      " txid1356009[Organism:noexp]+AND+biomol+rna[Properties]+AND+platform+illumina[Properties]+AND+100:1000[ReadLength]+AND+\"paired\"[Layout]\n",
      "\n",
      "RESPONSE: \n",
      " OrderedDict([('eSearchResult', OrderedDict([('Count', '0'), ('RetMax', '0'), ('RetStart', '0'), ('IdList', None), ('TranslationSet', None), ('QueryTranslation', 'txid1356009[Organism:noexp] AND biomol rna[Properties] AND platform illumina[Properties] AND 00000000100[ReadLength] : 00000001000[ReadLength] AND \"paired\"[Layout]'), ('ErrorList', OrderedDict([('PhraseNotFound', 'txid1356009[Organism:noexp]')])), ('WarningList', OrderedDict([('OutputMessage', 'No items found.')]))]))])\n",
      "\n",
      "FETCHED ID LIST: \n",
      " None\n",
      "\n",
      "QUERY: \n",
      " txid1094988[Organism:noexp]+AND+biomol+rna[Properties]+AND+platform+illumina[Properties]+AND+100:1000[ReadLength]+AND+\"paired\"[Layout]\n",
      "\n",
      "RESPONSE: \n",
      " OrderedDict([('eSearchResult', OrderedDict([('Count', '6'), ('RetMax', '6'), ('RetStart', '0'), ('IdList', OrderedDict([('Id', ['149157', '149149', '149141', '147979', '147967', '147964'])])), ('TranslationSet', None), ('TranslationStack', OrderedDict([('TermSet', [OrderedDict([('Term', 'txid1094988[Organism:noexp]'), ('Field', 'Organism'), ('Count', '8'), ('Explode', 'N')]), OrderedDict([('Term', 'biomol rna[Properties]'), ('Field', 'Properties'), ('Count', '779724'), ('Explode', 'N')]), OrderedDict([('Term', 'platform illumina[Properties]'), ('Field', 'Properties'), ('Count', '3177818'), ('Explode', 'N')]), OrderedDict([('Term', '00000000100[ReadLength]'), ('Field', 'ReadLength'), ('Count', '0'), ('Explode', 'N')]), OrderedDict([('Term', '00000001000[ReadLength]'), ('Field', 'ReadLength'), ('Count', '0'), ('Explode', 'N')]), OrderedDict([('Term', '\"paired\"[Layout]'), ('Field', 'Layout'), ('Count', '2367418'), ('Explode', 'N')])]), ('OP', ['AND', 'AND', 'RANGE', 'AND', 'AND'])])), ('QueryTranslation', 'txid1094988[Organism:noexp] AND biomol rna[Properties] AND platform illumina[Properties] AND 00000000100[ReadLength] : 00000001000[ReadLength] AND \"paired\"[Layout]')]))])\n",
      "\n",
      "FETCHED ID LIST: \n",
      " ['149157', '149149', '149141', '147979', '147967', '147964']\n",
      "FETCH ID 149157\n",
      "\n",
      "SRA accession:\n",
      " ['SRR447617']\n",
      "sra_id SRR447617\n",
      "Chunked ID\n",
      " ['SRR', '17']\n",
      "FETCH ID 149149\n",
      "\n",
      "SRA accession:\n",
      " ['SRR447609']\n",
      "sra_id SRR447609\n",
      "Chunked ID\n",
      " ['SRR', '09']\n",
      "FETCH ID 149141\n",
      "\n",
      "SRA accession:\n",
      " ['SRR447601']\n",
      "sra_id SRR447601\n",
      "Chunked ID\n",
      " ['SRR', '01']\n",
      "FETCH ID 147979\n",
      "\n",
      "SRA accession:\n",
      " ['SRR489777', 'SRR489778', 'SRR501099']\n",
      "sra_id SRR489777\n",
      "Chunked ID\n",
      " ['SRR', '77']\n",
      "sra_id SRR489778\n",
      "Chunked ID\n",
      " ['SRR', '78']\n",
      "sra_id SRR501099\n",
      "Chunked ID\n",
      " ['SRR', '99']\n",
      "FETCH ID 147967\n",
      "\n",
      "SRA accession:\n",
      " ['SRR489756', 'SRR501075', 'SRR501101']\n",
      "sra_id SRR489756\n",
      "Chunked ID\n",
      " ['SRR', '56']\n",
      "sra_id SRR501075\n",
      "Chunked ID\n",
      " ['SRR', '75']\n",
      "sra_id SRR501101\n",
      "Chunked ID\n",
      " ['SRR', '01']\n",
      "FETCH ID 147964\n",
      "\n",
      "SRA accession:\n",
      " ['SRR489783', 'SRR501082', 'SRR501089']\n",
      "sra_id SRR489783\n",
      "Chunked ID\n",
      " ['SRR', '83']\n",
      "sra_id SRR501082\n",
      "Chunked ID\n",
      " ['SRR', '82']\n",
      "sra_id SRR501089\n",
      "Chunked ID\n",
      " ['SRR', '89']\n",
      "\n",
      "QUERY: \n",
      " txid1094985[Organism:noexp]+AND+biomol+rna[Properties]+AND+platform+illumina[Properties]+AND+100:1000[ReadLength]+AND+\"paired\"[Layout]\n",
      "\n",
      "RESPONSE: \n",
      " OrderedDict([('eSearchResult', OrderedDict([('Count', '1'), ('RetMax', '1'), ('RetStart', '0'), ('IdList', OrderedDict([('Id', '244092')])), ('TranslationSet', None), ('TranslationStack', OrderedDict([('TermSet', [OrderedDict([('Term', 'txid1094985[Organism:noexp]'), ('Field', 'Organism'), ('Count', '3'), ('Explode', 'N')]), OrderedDict([('Term', 'biomol rna[Properties]'), ('Field', 'Properties'), ('Count', '779724'), ('Explode', 'N')]), OrderedDict([('Term', 'platform illumina[Properties]'), ('Field', 'Properties'), ('Count', '3177818'), ('Explode', 'N')]), OrderedDict([('Term', '00000000100[ReadLength]'), ('Field', 'ReadLength'), ('Count', '0'), ('Explode', 'N')]), OrderedDict([('Term', '00000001000[ReadLength]'), ('Field', 'ReadLength'), ('Count', '0'), ('Explode', 'N')]), OrderedDict([('Term', '\"paired\"[Layout]'), ('Field', 'Layout'), ('Count', '2367418'), ('Explode', 'N')])]), ('OP', ['AND', 'AND', 'RANGE', 'AND', 'AND'])])), ('QueryTranslation', 'txid1094985[Organism:noexp] AND biomol rna[Properties] AND platform illumina[Properties] AND 00000000100[ReadLength] : 00000001000[ReadLength] AND \"paired\"[Layout]')]))])\n",
      "\n",
      "FETCHED ID LIST: \n",
      " ['244092']\n",
      "FETCH ID 244092\n",
      "\n",
      "SRA accession:\n",
      " ['SRR567702', 'SRR567707', 'SRR567731', 'SRR567745']\n",
      "sra_id SRR567702\n",
      "Chunked ID\n",
      " ['SRR', '02']\n",
      "sra_id SRR567707\n",
      "Chunked ID\n",
      " ['SRR', '07']\n",
      "sra_id SRR567731\n",
      "Chunked ID\n",
      " ['SRR', '31']\n",
      "sra_id SRR567745\n",
      "Chunked ID\n",
      " ['SRR', '45']\n",
      "\n",
      "QUERY: \n",
      " txid1094992[Organism:noexp]+AND+biomol+rna[Properties]+AND+platform+illumina[Properties]+AND+100:1000[ReadLength]+AND+\"paired\"[Layout]\n",
      "\n",
      "RESPONSE: \n",
      " OrderedDict([('eSearchResult', OrderedDict([('Count', '1'), ('RetMax', '1'), ('RetStart', '0'), ('IdList', OrderedDict([('Id', '244099')])), ('TranslationSet', None), ('TranslationStack', OrderedDict([('TermSet', [OrderedDict([('Term', 'txid1094992[Organism:noexp]'), ('Field', 'Organism'), ('Count', '3'), ('Explode', 'N')]), OrderedDict([('Term', 'biomol rna[Properties]'), ('Field', 'Properties'), ('Count', '779724'), ('Explode', 'N')]), OrderedDict([('Term', 'platform illumina[Properties]'), ('Field', 'Properties'), ('Count', '3177818'), ('Explode', 'N')]), OrderedDict([('Term', '00000000100[ReadLength]'), ('Field', 'ReadLength'), ('Count', '0'), ('Explode', 'N')]), OrderedDict([('Term', '00000001000[ReadLength]'), ('Field', 'ReadLength'), ('Count', '0'), ('Explode', 'N')]), OrderedDict([('Term', '\"paired\"[Layout]'), ('Field', 'Layout'), ('Count', '2367418'), ('Explode', 'N')])]), ('OP', ['AND', 'AND', 'RANGE', 'AND', 'AND'])])), ('QueryTranslation', 'txid1094992[Organism:noexp] AND biomol rna[Properties] AND platform illumina[Properties] AND 00000000100[ReadLength] : 00000001000[ReadLength] AND \"paired\"[Layout]')]))])\n",
      "\n",
      "FETCHED ID LIST: \n",
      " ['244099']\n",
      "FETCH ID 244099\n"
     ]
    },
    {
     "name": "stdout",
     "output_type": "stream",
     "text": [
      "\n",
      "SRA accession:\n",
      " ['SRR567695', 'SRR567711', 'SRR567719', 'SRR567746']\n",
      "sra_id SRR567695\n",
      "Chunked ID\n",
      " ['SRR', '95']\n",
      "sra_id SRR567711\n",
      "Chunked ID\n",
      " ['SRR', '11']\n",
      "sra_id SRR567719\n",
      "Chunked ID\n",
      " ['SRR', '19']\n",
      "sra_id SRR567746\n",
      "Chunked ID\n",
      " ['SRR', '46']\n",
      "\n",
      "QUERY: \n",
      " txid1094990[Organism:noexp]+AND+biomol+rna[Properties]+AND+platform+illumina[Properties]+AND+100:1000[ReadLength]+AND+\"paired\"[Layout]\n",
      "\n",
      "RESPONSE: \n",
      " OrderedDict([('eSearchResult', OrderedDict([('Count', '6'), ('RetMax', '6'), ('RetStart', '0'), ('IdList', OrderedDict([('Id', ['149153', '149151', '149146', '147978', '147970', '147969'])])), ('TranslationSet', None), ('TranslationStack', OrderedDict([('TermSet', [OrderedDict([('Term', 'txid1094990[Organism:noexp]'), ('Field', 'Organism'), ('Count', '8'), ('Explode', 'N')]), OrderedDict([('Term', 'biomol rna[Properties]'), ('Field', 'Properties'), ('Count', '779724'), ('Explode', 'N')]), OrderedDict([('Term', 'platform illumina[Properties]'), ('Field', 'Properties'), ('Count', '3177818'), ('Explode', 'N')]), OrderedDict([('Term', '00000000100[ReadLength]'), ('Field', 'ReadLength'), ('Count', '0'), ('Explode', 'N')]), OrderedDict([('Term', '00000001000[ReadLength]'), ('Field', 'ReadLength'), ('Count', '0'), ('Explode', 'N')]), OrderedDict([('Term', '\"paired\"[Layout]'), ('Field', 'Layout'), ('Count', '2367418'), ('Explode', 'N')])]), ('OP', ['AND', 'AND', 'RANGE', 'AND', 'AND'])])), ('QueryTranslation', 'txid1094990[Organism:noexp] AND biomol rna[Properties] AND platform illumina[Properties] AND 00000000100[ReadLength] : 00000001000[ReadLength] AND \"paired\"[Layout]')]))])\n",
      "\n",
      "FETCHED ID LIST: \n",
      " ['149153', '149151', '149146', '147978', '147970', '147969']\n",
      "FETCH ID 149153\n",
      "\n",
      "SRA accession:\n",
      " ['SRR447613']\n",
      "sra_id SRR447613\n",
      "Chunked ID\n",
      " ['SRR', '13']\n",
      "FETCH ID 149151\n",
      "\n",
      "SRA accession:\n",
      " ['SRR447611']\n",
      "sra_id SRR447611\n",
      "Chunked ID\n",
      " ['SRR', '11']\n",
      "FETCH ID 149146\n",
      "\n",
      "SRA accession:\n",
      " ['SRR447606']\n",
      "sra_id SRR447606\n",
      "Chunked ID\n",
      " ['SRR', '06']\n",
      "FETCH ID 147978\n",
      "\n",
      "SRA accession:\n",
      " ['SRR489786', 'SRR501081', 'SRR501092']\n",
      "sra_id SRR489786\n",
      "Chunked ID\n",
      " ['SRR', '86']\n",
      "sra_id SRR501081\n",
      "Chunked ID\n",
      " ['SRR', '81']\n",
      "sra_id SRR501092\n",
      "Chunked ID\n",
      " ['SRR', '92']\n",
      "FETCH ID 147970\n",
      "\n",
      "SRA accession:\n",
      " ['SRR489784', 'SRR489789', 'SRR501093']\n",
      "sra_id SRR489784\n",
      "Chunked ID\n",
      " ['SRR', '84']\n",
      "sra_id SRR489789\n",
      "Chunked ID\n",
      " ['SRR', '89']\n",
      "sra_id SRR501093\n",
      "Chunked ID\n",
      " ['SRR', '93']\n",
      "FETCH ID 147969\n",
      "\n",
      "SRA accession:\n",
      " ['SRR489757', 'SRR501080', 'SRR501094']\n",
      "sra_id SRR489757\n",
      "Chunked ID\n",
      " ['SRR', '57']\n",
      "sra_id SRR501080\n",
      "Chunked ID\n",
      " ['SRR', '80']\n",
      "sra_id SRR501094\n",
      "Chunked ID\n",
      " ['SRR', '94']\n",
      "\n",
      "QUERY: \n",
      " txid1094989[Organism:noexp]+AND+biomol+rna[Properties]+AND+platform+illumina[Properties]+AND+100:1000[ReadLength]+AND+\"paired\"[Layout]\n",
      "\n",
      "RESPONSE: \n",
      " OrderedDict([('eSearchResult', OrderedDict([('Count', '1'), ('RetMax', '1'), ('RetStart', '0'), ('IdList', OrderedDict([('Id', '244098')])), ('TranslationSet', None), ('TranslationStack', OrderedDict([('TermSet', [OrderedDict([('Term', 'txid1094989[Organism:noexp]'), ('Field', 'Organism'), ('Count', '3'), ('Explode', 'N')]), OrderedDict([('Term', 'biomol rna[Properties]'), ('Field', 'Properties'), ('Count', '779724'), ('Explode', 'N')]), OrderedDict([('Term', 'platform illumina[Properties]'), ('Field', 'Properties'), ('Count', '3177818'), ('Explode', 'N')]), OrderedDict([('Term', '00000000100[ReadLength]'), ('Field', 'ReadLength'), ('Count', '0'), ('Explode', 'N')]), OrderedDict([('Term', '00000001000[ReadLength]'), ('Field', 'ReadLength'), ('Count', '0'), ('Explode', 'N')]), OrderedDict([('Term', '\"paired\"[Layout]'), ('Field', 'Layout'), ('Count', '2367418'), ('Explode', 'N')])]), ('OP', ['AND', 'AND', 'RANGE', 'AND', 'AND'])])), ('QueryTranslation', 'txid1094989[Organism:noexp] AND biomol rna[Properties] AND platform illumina[Properties] AND 00000000100[ReadLength] : 00000001000[ReadLength] AND \"paired\"[Layout]')]))])\n",
      "\n",
      "FETCHED ID LIST: \n",
      " ['244098']\n",
      "FETCH ID 244098\n",
      "\n",
      "SRA accession:\n",
      " ['SRR567709', 'SRR567723', 'SRR567732', 'SRR567736']\n",
      "sra_id SRR567709\n",
      "Chunked ID\n",
      " ['SRR', '09']\n",
      "sra_id SRR567723\n",
      "Chunked ID\n",
      " ['SRR', '23']\n",
      "sra_id SRR567732\n",
      "Chunked ID\n",
      " ['SRR', '32']\n",
      "sra_id SRR567736\n",
      "Chunked ID\n",
      " ['SRR', '36']\n",
      "\n",
      "QUERY: \n",
      " txid294748[Organism:noexp]+AND+biomol+rna[Properties]+AND+platform+illumina[Properties]+AND+100:1000[ReadLength]+AND+\"paired\"[Layout]\n",
      "\n",
      "RESPONSE: \n",
      " OrderedDict([('eSearchResult', OrderedDict([('Count', '13'), ('RetMax', '13'), ('RetStart', '0'), ('IdList', OrderedDict([('Id', ['150415', '150414', '142560', '142558', '142556', '142553', '142551', '141634', '141502', '141830', '141638', '141636', '141631'])])), ('TranslationSet', None), ('TranslationStack', OrderedDict([('TermSet', [OrderedDict([('Term', 'txid294748[Organism:noexp]'), ('Field', 'Organism'), ('Count', '13'), ('Explode', 'N')]), OrderedDict([('Term', 'biomol rna[Properties]'), ('Field', 'Properties'), ('Count', '779724'), ('Explode', 'N')]), OrderedDict([('Term', 'platform illumina[Properties]'), ('Field', 'Properties'), ('Count', '3177818'), ('Explode', 'N')]), OrderedDict([('Term', '00000000100[ReadLength]'), ('Field', 'ReadLength'), ('Count', '0'), ('Explode', 'N')]), OrderedDict([('Term', '00000001000[ReadLength]'), ('Field', 'ReadLength'), ('Count', '0'), ('Explode', 'N')]), OrderedDict([('Term', '\"paired\"[Layout]'), ('Field', 'Layout'), ('Count', '2367418'), ('Explode', 'N')])]), ('OP', ['AND', 'AND', 'RANGE', 'AND', 'AND'])])), ('QueryTranslation', 'txid294748[Organism:noexp] AND biomol rna[Properties] AND platform illumina[Properties] AND 00000000100[ReadLength] : 00000001000[ReadLength] AND \"paired\"[Layout]')]))])\n",
      "\n",
      "FETCHED ID LIST: \n",
      " ['150415', '150414', '142560', '142558', '142556', '142553', '142551', '141634', '141502', '141830', '141638', '141636', '141631']\n",
      "FETCH ID 150415\n",
      "\n",
      "SRA accession:\n",
      " ['SRR449430']\n",
      "sra_id SRR449430\n",
      "Chunked ID\n",
      " ['SRR', '30']\n",
      "FETCH ID 150414\n",
      "\n",
      "SRA accession:\n",
      " ['SRR449429']\n",
      "sra_id SRR449429\n",
      "Chunked ID\n",
      " ['SRR', '29']\n",
      "FETCH ID 142560\n",
      "\n",
      "SRA accession:\n",
      " ['SRR424180']\n",
      "sra_id SRR424180\n",
      "Chunked ID\n",
      " ['SRR', '80']\n",
      "FETCH ID 142558\n",
      "\n",
      "SRA accession:\n",
      " ['SRR423961']\n",
      "sra_id SRR423961\n",
      "Chunked ID\n",
      " ['SRR', '61']\n",
      "FETCH ID 142556\n",
      "\n",
      "SRA accession:\n",
      " ['SRR423959']\n",
      "sra_id SRR423959\n",
      "Chunked ID\n",
      " ['SRR', '59']\n",
      "FETCH ID 142553\n",
      "\n",
      "SRA accession:\n",
      " ['SRR423956']\n",
      "sra_id SRR423956\n",
      "Chunked ID\n",
      " ['SRR', '56']\n",
      "FETCH ID 142551\n",
      "\n",
      "SRA accession:\n",
      " ['SRR423954']\n",
      "sra_id SRR423954\n",
      "Chunked ID\n",
      " ['SRR', '54']\n",
      "FETCH ID 141634\n",
      "\n",
      "SRA accession:\n",
      " ['SRR419541']\n",
      "sra_id SRR419541\n",
      "Chunked ID\n",
      " ['SRR', '41']\n",
      "FETCH ID 141502\n",
      "\n",
      "SRA accession:\n",
      " ['SRR419391']\n",
      "sra_id SRR419391\n",
      "Chunked ID\n",
      " ['SRR', '91']\n",
      "FETCH ID 141830\n",
      "\n",
      "SRA accession:\n",
      " ['SRR420189']\n",
      "sra_id SRR420189\n",
      "Chunked ID\n",
      " ['SRR', '89']\n",
      "FETCH ID 141638\n",
      "\n",
      "SRA accession:\n",
      " ['SRR419545']\n",
      "sra_id SRR419545\n",
      "Chunked ID\n",
      " ['SRR', '45']\n",
      "FETCH ID 141636\n",
      "\n",
      "SRA accession:\n",
      " ['SRR419543']\n",
      "sra_id SRR419543\n",
      "Chunked ID\n",
      " ['SRR', '43']\n",
      "FETCH ID 141631\n",
      "\n",
      "SRA accession:\n",
      " ['SRR419517']\n",
      "sra_id SRR419517\n",
      "Chunked ID\n",
      " ['SRR', '17']\n"
     ]
    }
   ],
   "source": [
    "download_sra_json(tax_id_list)"
   ]
  },
  {
   "cell_type": "code",
   "execution_count": 31,
   "metadata": {
    "collapsed": true
   },
   "outputs": [],
   "source": [
    "test_str = list('447617')"
   ]
  },
  {
   "cell_type": "code",
   "execution_count": 36,
   "metadata": {},
   "outputs": [
    {
     "data": {
      "text/plain": [
       "['4', '4']"
      ]
     },
     "execution_count": 36,
     "metadata": {},
     "output_type": "execute_result"
    }
   ],
   "source": [
    "test_str[:2]\n"
   ]
  },
  {
   "cell_type": "code",
   "execution_count": 41,
   "metadata": {},
   "outputs": [
    {
     "name": "stdout",
     "output_type": "stream",
     "text": [
      "0\n",
      "['4', '4']\n",
      "2\n",
      "['7', '6']\n",
      "4\n",
      "['1', '7']\n"
     ]
    }
   ],
   "source": [
    "for i in range(0, len(test_str), 2):\n",
    "    print(i)\n",
    "    print(test_str[i:i + 2])"
   ]
  },
  {
   "cell_type": "code",
   "execution_count": null,
   "metadata": {
    "collapsed": true
   },
   "outputs": [],
   "source": []
  }
 ],
 "metadata": {
  "kernelspec": {
   "display_name": "Python 3",
   "language": "python",
   "name": "python3"
  },
  "language_info": {
   "codemirror_mode": {
    "name": "ipython",
    "version": 3
   },
   "file_extension": ".py",
   "mimetype": "text/x-python",
   "name": "python",
   "nbconvert_exporter": "python",
   "pygments_lexer": "ipython3",
   "version": "3.6.3"
  }
 },
 "nbformat": 4,
 "nbformat_minor": 2
}
